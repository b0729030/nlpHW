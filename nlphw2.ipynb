{
  "nbformat": 4,
  "nbformat_minor": 0,
  "metadata": {
    "colab": {
      "name": "nlphw2.ipynb",
      "provenance": [],
      "collapsed_sections": []
    },
    "kernelspec": {
      "name": "python3",
      "display_name": "Python 3"
    },
    "language_info": {
      "name": "python"
    }
  },
  "cells": [
    {
      "cell_type": "code",
      "metadata": {
        "id": "YbVKHEKaiEB7"
      },
      "source": [
        "# import libraries\n",
        "import pandas as pd\n",
        "import requests\n",
        "from bs4 import BeautifulSoup"
      ],
      "execution_count": 2,
      "outputs": []
    },
    {
      "cell_type": "code",
      "metadata": {
        "id": "91En7pPniOJb"
      },
      "source": [
        "# 指定Yahoo!的URL\n",
        "url = 'https://movies.yahoo.com.tw/movie_thisweek.html'\n",
        "# GET request from url and parse via BeautifulSoup\n",
        "r = requests.get(url)\n",
        "# 擷取request回傳的文字部分\n",
        "web_content = r.text"
      ],
      "execution_count": 3,
      "outputs": []
    },
    {
      "cell_type": "code",
      "metadata": {
        "id": "8gbrvjzhiaGE"
      },
      "source": [
        "# 使用BeautifulSoup來parse HTMl\n",
        "soup = BeautifulSoup(web_content,'lxml')"
      ],
      "execution_count": 4,
      "outputs": []
    },
    {
      "cell_type": "code",
      "metadata": {
        "id": "5JUhkvekjNYm"
      },
      "source": [
        "newMovie2 = soup.find_all('div', class_ = \"release_movie_name\")\n",
        "newMovie2"
      ],
      "execution_count": null,
      "outputs": []
    },
    {
      "cell_type": "code",
      "metadata": {
        "id": "tfffmVBsjc2J"
      },
      "source": [
        "NameCHs = [t.find('a', class_='gabtn').text.replace('\\n','').replace(' ','') for t in newMovie2]\n",
        "NameCHs"
      ],
      "execution_count": null,
      "outputs": []
    },
    {
      "cell_type": "code",
      "metadata": {
        "id": "MKoWU8_vjieo"
      },
      "source": [
        "#ENmoviename\n",
        "NameENs = [t.find('div', class_='en').find('a').text.replace('\\n','').replace(' ','') for t in newMovie2]\n",
        "NameENs"
      ],
      "execution_count": null,
      "outputs": []
    },
    {
      "cell_type": "code",
      "metadata": {
        "id": "z4i_xO1Ojp4T"
      },
      "source": [
        "newMovie3 = soup.find_all('div',class_=\"release_btn color_btnbox\")\n",
        "newMovie3"
      ],
      "execution_count": null,
      "outputs": []
    },
    {
      "cell_type": "code",
      "metadata": {
        "id": "zZwZd4nIjtfF"
      },
      "source": [
        "links = [t.find('a',class_=\"btn_s_vedio gabtn\")['href'] for t in newMovie3]\n",
        "links"
      ],
      "execution_count": null,
      "outputs": []
    },
    {
      "cell_type": "code",
      "metadata": {
        "id": "Q3ctjM5tjxp0"
      },
      "source": [
        "newMovie4 = soup.find_all('div',class_=\"release_text\")\n",
        "newMovie4"
      ],
      "execution_count": null,
      "outputs": []
    },
    {
      "cell_type": "code",
      "metadata": {
        "id": "dCXsS3ISj3av"
      },
      "source": [
        "Intros = [t.find('span').text.replace('\\n','').replace('\\r','').replace('\\xa0','').replace(' ','') for t in newMovie4]\n",
        "Intros"
      ],
      "execution_count": null,
      "outputs": []
    },
    {
      "cell_type": "code",
      "metadata": {
        "id": "zYhOio2fj7XH"
      },
      "source": [
        "len(NameCHs)\n",
        "len(NameENs)\n",
        "len(Intros)\n",
        "len(links)"
      ],
      "execution_count": null,
      "outputs": []
    },
    {
      "cell_type": "code",
      "metadata": {
        "id": "fyBfZ1f8j_HD"
      },
      "source": [
        "df = pd.DataFrame(\n",
        "{\n",
        "    'Name':NameCHs,\n",
        "    'EnName':NameENs,\n",
        "    'Intro': Intros,\n",
        "    'Trailer': links\n",
        "})\n",
        "df"
      ],
      "execution_count": null,
      "outputs": []
    },
    {
      "cell_type": "code",
      "metadata": {
        "id": "8PhxiVKHkGWJ"
      },
      "source": [
        "# create function\n",
        "def yahooMovieParser(url):\n",
        "    r = requests.get(url)\n",
        "    web_content = r.text\n",
        "    soup = BeautifulSoup(web_content,'lxml')\n",
        "    \n",
        "    # 中英文片名\n",
        "    newMovie2 = soup.find_all('div', class_ = \"release_movie_name\")\n",
        "    NameCHs = [t.find('a', class_='gabtn').text.replace('\\n','').replace(' ','') for t in newMovie2]\n",
        "    NameENs = [t.find('div', class_='en').find('a').text.replace('\\n','').replace(' ','') for t in newMovie2]\n",
        "    # 預告片\n",
        "    newMovie3 = soup.find_all('div',class_=\"release_btn color_btnbox\")\n",
        "    links = [t.find('a',class_=\"btn_s_vedio gabtn\")['href'] for t in newMovie3]\n",
        "    # 電影介紹\n",
        "    newMovie4 = soup.find_all('div',class_=\"release_text\")\n",
        "    Intros = [t.find('span').text.replace('\\n','').replace('\\r','').replace('\\xa0','').replace(' ','') for t in newMovie4]\n",
        "    #合併成data frame\n",
        "    df = pd.DataFrame(\n",
        "    {\n",
        "        'Name':NameCHs,\n",
        "        'EnName':NameENs,\n",
        "        'Intro': Intros,\n",
        "        'Trailer': links\n",
        "    })\n",
        "    return df"
      ],
      "execution_count": 16,
      "outputs": []
    },
    {
      "cell_type": "code",
      "metadata": {
        "id": "dog94ZFekJbo"
      },
      "source": [
        "url = \"https://movies.yahoo.com.tw/movie_thisweek.html\"\n",
        "df1 = yahooMovieParser(url)\n",
        "df1"
      ],
      "execution_count": null,
      "outputs": []
    },
    {
      "cell_type": "code",
      "metadata": {
        "colab": {
          "base_uri": "https://localhost:8080/",
          "height": 206
        },
        "id": "8y-C3JfdkNPD",
        "outputId": "45800e5e-6513-4ec5-e71c-db03a7e11df2"
      },
      "source": [
        "urlList = ['https://movies.yahoo.com.tw/movie_thisweek.html','https://movies.yahoo.com.tw/movie_thisweek.html?page=2']\n",
        "MovieInfo = None\n",
        " \n",
        "for u in urlList:\n",
        "    d1 = yahooMovieParser(u)\n",
        "    if MovieInfo is None:\n",
        "        MovieInfo = d1\n",
        "    else:\n",
        "        MovieInfo = MovieInfo.append(d1,ignore_index=True)\n",
        "    \n",
        "MovieInfo"
      ],
      "execution_count": 18,
      "outputs": [
        {
          "output_type": "execute_result",
          "data": {
            "text/html": [
              "<div>\n",
              "<style scoped>\n",
              "    .dataframe tbody tr th:only-of-type {\n",
              "        vertical-align: middle;\n",
              "    }\n",
              "\n",
              "    .dataframe tbody tr th {\n",
              "        vertical-align: top;\n",
              "    }\n",
              "\n",
              "    .dataframe thead th {\n",
              "        text-align: right;\n",
              "    }\n",
              "</style>\n",
              "<table border=\"1\" class=\"dataframe\">\n",
              "  <thead>\n",
              "    <tr style=\"text-align: right;\">\n",
              "      <th></th>\n",
              "      <th>Name</th>\n",
              "      <th>EnName</th>\n",
              "      <th>Intro</th>\n",
              "      <th>Trailer</th>\n",
              "    </tr>\n",
              "  </thead>\n",
              "  <tbody>\n",
              "    <tr>\n",
              "      <th>0</th>\n",
              "      <td>玩命關頭9</td>\n",
              "      <td>Fast&amp;Furious9</td>\n",
              "      <td>馮迪索飾演的唐老大和莉蒂與他的兒子小布萊恩，正在過著與世隔絕的平靜生活，但是他們都知道這種平...</td>\n",
              "      <td>https://movies.yahoo.com.tw/video/%E7%8E%A9%E5...</td>\n",
              "    </tr>\n",
              "    <tr>\n",
              "      <th>1</th>\n",
              "      <td>脫稿玩家</td>\n",
              "      <td>Originaltitle:FreeGuy</td>\n",
              "      <td>《脫稿玩家》故事描述一個銀行小職員-蓋伊(萊恩雷諾斯)日復一日年復一年做著無聊的工作，過著樸...</td>\n",
              "      <td>https://movies.yahoo.com.tw/video/%E8%84%AB%E7...</td>\n",
              "    </tr>\n",
              "    <tr>\n",
              "      <th>2</th>\n",
              "      <td>被偷走的童年</td>\n",
              "      <td>WhenHitlerStolePinkRabbit</td>\n",
              "      <td>★《何處是我家》奧斯卡金獎導演卡洛琳林克最新作品★改編自童書巨匠朱迪絲克爾暢銷自傳體小說★透...</td>\n",
              "      <td>https://movies.yahoo.com.tw/video/%E8%A2%AB%E5...</td>\n",
              "    </tr>\n",
              "    <tr>\n",
              "      <th>3</th>\n",
              "      <td>感動她77次</td>\n",
              "      <td>77Heartwarmings</td>\n",
              "      <td>★香港天后蔡卓妍，帥氣男星周柏豪、再加上泰國偶像男神馬力歐共同演出糾心三角戀，想挽回10年感...</td>\n",
              "      <td>https://movies.yahoo.com.tw/video/%E6%84%9F%E5...</td>\n",
              "    </tr>\n",
              "    <tr>\n",
              "      <th>4</th>\n",
              "      <td>未來之書</td>\n",
              "      <td>TheBookofVision</td>\n",
              "      <td>女醫生放棄了人人稱羨的前程，來到大學鑽研醫學史。她發現一名十八世紀醫生的手稿，除了記載病人的...</td>\n",
              "      <td>https://movies.yahoo.com.tw/video/%E6%9C%AA%E4...</td>\n",
              "    </tr>\n",
              "  </tbody>\n",
              "</table>\n",
              "</div>"
            ],
            "text/plain": [
              "     Name  ...                                            Trailer\n",
              "0   玩命關頭9  ...  https://movies.yahoo.com.tw/video/%E7%8E%A9%E5...\n",
              "1    脫稿玩家  ...  https://movies.yahoo.com.tw/video/%E8%84%AB%E7...\n",
              "2  被偷走的童年  ...  https://movies.yahoo.com.tw/video/%E8%A2%AB%E5...\n",
              "3  感動她77次  ...  https://movies.yahoo.com.tw/video/%E6%84%9F%E5...\n",
              "4    未來之書  ...  https://movies.yahoo.com.tw/video/%E6%9C%AA%E4...\n",
              "\n",
              "[5 rows x 4 columns]"
            ]
          },
          "metadata": {
            "tags": []
          },
          "execution_count": 18
        }
      ]
    },
    {
      "cell_type": "code",
      "metadata": {
        "id": "PVzF191nkQ4t"
      },
      "source": [
        "url = \"https://movies.yahoo.com.tw/movie_thisweek.html\"\n",
        "r = requests.get(url)\n",
        "web_content = r.text\n",
        "soup = BeautifulSoup(web_content,'lxml')\n",
        "pageInfo = soup.find('div', class_='page_numbox')\n",
        "pageInfo"
      ],
      "execution_count": 19,
      "outputs": []
    },
    {
      "cell_type": "code",
      "metadata": {
        "id": "LMWa7YYDkUCn"
      },
      "source": [
        "def getNext(url):\n",
        "    r = requests.get(url)\n",
        "    web_content = r.text\n",
        "    soup = BeautifulSoup(web_content,'lxml')\n",
        "    pageInfo = soup.find('div', class_='page_numbox')\n",
        "    tagA = pageInfo.find('li', class_=\"nexttxt\").find('a')\n",
        "    if tagA:\n",
        "        return tagA['href']\n",
        "    else:\n",
        "        return None"
      ],
      "execution_count": 23,
      "outputs": []
    }
  ]
}